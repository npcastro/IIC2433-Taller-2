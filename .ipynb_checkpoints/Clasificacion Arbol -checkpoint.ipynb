{
 "metadata": {
  "name": ""
 },
 "nbformat": 3,
 "nbformat_minor": 0,
 "worksheets": [
  {
   "cells": [
    {
     "cell_type": "code",
     "collapsed": false,
     "input": [
      "from sklearn import cross_validation\n",
      "from sklearn import tree\n",
      "\n",
      "from sklearn.metrics import recall_score\n",
      "from sklearn.metrics import f1_score\n",
      "from sklearn.metrics import precision_score\n",
      "\n",
      "from utils import open_eros_data\n",
      "from utils import plot_confusion_matrix"
     ],
     "language": "python",
     "metadata": {},
     "outputs": [],
     "prompt_number": 5
    },
    {
     "cell_type": "heading",
     "level": 3,
     "metadata": {},
     "source": [
      "Clasificacion de datos EROS"
     ]
    },
    {
     "cell_type": "code",
     "collapsed": false,
     "input": [
      "X, y = open_eros_data()\n",
      "\n",
      "num_classes = len(y.unique())\n",
      "feature_names = X.columns.tolist()\n",
      "classes = ['BV', 'Cepheid', 'DSCT', 'Eclipsing Binaries', 'Long Period Variables', 'Quasar', 'RR Lyrae', 'Type 2 CEPH']\n",
      "\n",
      "# Guardamos las predicciones y clases reales de todos los fold en una lista\n",
      "y_pred_total = []\n",
      "y_test_total = []\n",
      "\n",
      "k_fold = cross_validation.StratifiedKFold(y, n_folds = 10, indices = True)"
     ],
     "language": "python",
     "metadata": {},
     "outputs": [],
     "prompt_number": 6
    },
    {
     "cell_type": "code",
     "collapsed": false,
     "input": [
      "# Para cada fold, ajustamos un \u00e1rbol con el 90% de los datos y guardamos sus predicciones sobre el 10% restante\n",
      "for train_indices, test_indices in k_fold:\n",
      "    X_train = X.iloc[train_indices]\n",
      "    y_train = y.iloc[train_indices]\n",
      "\n",
      "    X_test = X.iloc[test_indices]\n",
      "    y_test = y.iloc[test_indices]\n",
      "\n",
      "    clf = tree.DecisionTreeClassifier( criterion = 'entropy')\n",
      "\n",
      "    # Ajusto el modelo y predigo \n",
      "    clf = clf.fit( X_train, y_train )\n",
      "    y_pred = clf.predict( X_test )\n",
      "\n",
      "    y_pred_total += y_pred.tolist()\n",
      "    y_test_total += y_test.tolist()"
     ],
     "language": "python",
     "metadata": {},
     "outputs": [],
     "prompt_number": 7
    },
    {
     "cell_type": "heading",
     "level": 4,
     "metadata": {},
     "source": [
      "Metricas"
     ]
    },
    {
     "cell_type": "code",
     "collapsed": false,
     "input": [
      "from IPython.display import HTML\n",
      "import pandas as pd\n",
      "\n",
      "# Calculamos las m\u00e9tricas de calidad de la clasificaci\u00f3n\n",
      "precision = precision_score(y_test_total, y_pred_total, average = None)\n",
      "recall = recall_score(y_test_total, y_pred_total, average = None)\n",
      "f_score = f1_score(y_test_total, y_pred_total, average = None)\n",
      "\n",
      "df = pd.DataFrame([precision, recall, f_score], index = ['Precision', 'Recall', 'F-Score'], columns=classes)\n",
      "\n",
      "HTML(df.to_html())"
     ],
     "language": "python",
     "metadata": {},
     "outputs": [
      {
       "html": [
        "<table border=\"1\" class=\"dataframe\">\n",
        "  <thead>\n",
        "    <tr style=\"text-align: right;\">\n",
        "      <th></th>\n",
        "      <th>BV</th>\n",
        "      <th>Cepheid</th>\n",
        "      <th>DSCT</th>\n",
        "      <th>Eclipsing Binaries</th>\n",
        "      <th>Long Period Variables</th>\n",
        "      <th>Quasar</th>\n",
        "      <th>RR Lyrae</th>\n",
        "      <th>Type 2 CEPH</th>\n",
        "    </tr>\n",
        "  </thead>\n",
        "  <tbody>\n",
        "    <tr>\n",
        "      <th>Precision</th>\n",
        "      <td> 0.952020</td>\n",
        "      <td> 0.913120</td>\n",
        "      <td> 0.911290</td>\n",
        "      <td> 0.885551</td>\n",
        "      <td> 0.993120</td>\n",
        "      <td> 0.785311</td>\n",
        "      <td> 0.933969</td>\n",
        "      <td> 0.277027</td>\n",
        "    </tr>\n",
        "    <tr>\n",
        "      <th>Recall</th>\n",
        "      <td> 0.947236</td>\n",
        "      <td> 0.912319</td>\n",
        "      <td> 0.884540</td>\n",
        "      <td> 0.874788</td>\n",
        "      <td> 0.992934</td>\n",
        "      <td> 0.772222</td>\n",
        "      <td> 0.942953</td>\n",
        "      <td> 0.338843</td>\n",
        "    </tr>\n",
        "    <tr>\n",
        "      <th>F-Score</th>\n",
        "      <td> 0.949622</td>\n",
        "      <td> 0.912719</td>\n",
        "      <td> 0.897716</td>\n",
        "      <td> 0.880136</td>\n",
        "      <td> 0.993027</td>\n",
        "      <td> 0.778711</td>\n",
        "      <td> 0.938439</td>\n",
        "      <td> 0.304833</td>\n",
        "    </tr>\n",
        "  </tbody>\n",
        "</table>"
       ],
       "metadata": {},
       "output_type": "pyout",
       "prompt_number": 8,
       "text": [
        "<IPython.core.display.HTML at 0x108a22ed0>"
       ]
      }
     ],
     "prompt_number": 8
    },
    {
     "cell_type": "heading",
     "level": 4,
     "metadata": {},
     "source": [
      "Matriz de Confusi\u00f3n"
     ]
    },
    {
     "cell_type": "code",
     "collapsed": false,
     "input": [
      "# Ploteamos matriz de confusi\u00f3n como Heatmap\n",
      "plot_confusion_matrix(y_test_total, y_pred_total, 'Decision Tree Classifier', normed=True)"
     ],
     "language": "python",
     "metadata": {},
     "outputs": [],
     "prompt_number": 15
    },
    {
     "cell_type": "heading",
     "level": 4,
     "metadata": {},
     "source": [
      "Visualizaci\u00f3n del Arbol"
     ]
    },
    {
     "cell_type": "code",
     "collapsed": false,
     "input": [
      "from sklearn.externals.six import StringIO  \n",
      "from sklearn import tree\n",
      "import pydot \n",
      "\n",
      "# Volvemos a entrenar un \u00e1rbol pero con todos los datos\n",
      "clf = clf.fit(X,y)\n",
      "\n",
      "dot_data = StringIO() \n",
      "tree.export_graphviz(clf, out_file=dot_data, feature_names=feature_names) \n",
      "graph = pydot.graph_from_dot_data(dot_data.getvalue()) \n",
      "graph.write_pdf(\"Eros_Tree.pdf\")"
     ],
     "language": "python",
     "metadata": {},
     "outputs": [
      {
       "metadata": {},
       "output_type": "pyout",
       "prompt_number": 17,
       "text": [
        "True"
       ]
      }
     ],
     "prompt_number": 17
    }
   ],
   "metadata": {}
  }
 ]
}