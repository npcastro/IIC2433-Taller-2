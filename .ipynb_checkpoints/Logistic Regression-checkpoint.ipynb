{
 "metadata": {
  "name": "",
  "signature": "sha256:eb08946637870e2cc9d657087e279b14999b9b09225412ba9706b976833ea05b"
 },
 "nbformat": 3,
 "nbformat_minor": 0,
 "worksheets": [
  {
   "cells": [
    {
     "cell_type": "code",
     "collapsed": false,
     "input": [
      "from sklearn import cross_validation\n",
      "from sklearn.linear_model import LogisticRegression\n",
      "\n",
      "from sklearn.metrics import recall_score\n",
      "from sklearn.metrics import f1_score\n",
      "from sklearn.metrics import precision_score\n",
      "\n",
      "from utils import open_eros_data\n",
      "from utils import plot_confusion_matrix"
     ],
     "language": "python",
     "metadata": {},
     "outputs": [],
     "prompt_number": 6
    },
    {
     "cell_type": "heading",
     "level": 1,
     "metadata": {},
     "source": [
      "Clasificacion de datos EROS"
     ]
    },
    {
     "cell_type": "code",
     "collapsed": false,
     "input": [
      "X, y = open_eros_data()\n",
      "\n",
      "num_classes = len(y.unique())\n",
      "feature_names = X.columns.tolist()\n",
      "\n",
      "# Guardamos las predicciones y clases reales de todos los fold en una lista\n",
      "y_pred_total = []\n",
      "y_test_total = []\n",
      "\n",
      "k_fold = cross_validation.StratifiedKFold(y, n_folds = 10, indices = True)"
     ],
     "language": "python",
     "metadata": {},
     "outputs": [],
     "prompt_number": 7
    },
    {
     "cell_type": "code",
     "collapsed": false,
     "input": [
      "# Para cada fold, ajustamos una regresi\u00f3n log\u00edstica con el 90% de los datos y guardamos sus predicciones sobre el 10% restante\n",
      "for train_indices, test_indices in k_fold:\n",
      "    X_train = X.iloc[train_indices]\n",
      "    y_train = y.iloc[train_indices]\n",
      "\n",
      "    X_test = X.iloc[test_indices]\n",
      "    y_test = y.iloc[test_indices]\n",
      "\n",
      "    clf = LogisticRegression( penalty  = 'l1')\n",
      "\n",
      "    # Ajusto el modelo y predigo \n",
      "    clf = clf.fit( X_train, y_train )\n",
      "    y_pred = clf.predict( X_test )\n",
      "\n",
      "    y_pred_total += y_pred.tolist()\n",
      "    y_test_total += y_test.tolist()"
     ],
     "language": "python",
     "metadata": {},
     "outputs": [
      {
       "ename": "TypeError",
       "evalue": "__init__() got an unexpected keyword argument 'criterion'",
       "output_type": "pyerr",
       "traceback": [
        "\u001b[1;31m---------------------------------------------------------------------------\u001b[0m\n\u001b[1;31mTypeError\u001b[0m                                 Traceback (most recent call last)",
        "\u001b[1;32m<ipython-input-8-54cc352329b2>\u001b[0m in \u001b[0;36m<module>\u001b[1;34m()\u001b[0m\n\u001b[0;32m      7\u001b[0m     \u001b[0my_test\u001b[0m \u001b[1;33m=\u001b[0m \u001b[0my\u001b[0m\u001b[1;33m.\u001b[0m\u001b[0miloc\u001b[0m\u001b[1;33m[\u001b[0m\u001b[0mtest_indices\u001b[0m\u001b[1;33m]\u001b[0m\u001b[1;33m\u001b[0m\u001b[0m\n\u001b[0;32m      8\u001b[0m \u001b[1;33m\u001b[0m\u001b[0m\n\u001b[1;32m----> 9\u001b[1;33m     \u001b[0mclf\u001b[0m \u001b[1;33m=\u001b[0m \u001b[0mLogisticRegression\u001b[0m\u001b[1;33m(\u001b[0m \u001b[0mcriterion\u001b[0m \u001b[1;33m=\u001b[0m \u001b[1;34m'l1'\u001b[0m\u001b[1;33m)\u001b[0m\u001b[1;33m\u001b[0m\u001b[0m\n\u001b[0m\u001b[0;32m     10\u001b[0m \u001b[1;33m\u001b[0m\u001b[0m\n\u001b[0;32m     11\u001b[0m     \u001b[1;31m# Ajusto el modelo y predigo\u001b[0m\u001b[1;33m\u001b[0m\u001b[1;33m\u001b[0m\u001b[0m\n",
        "\u001b[1;31mTypeError\u001b[0m: __init__() got an unexpected keyword argument 'criterion'"
       ]
      }
     ],
     "prompt_number": 8
    },
    {
     "cell_type": "heading",
     "level": 1,
     "metadata": {},
     "source": [
      "Metricas"
     ]
    },
    {
     "cell_type": "code",
     "collapsed": false,
     "input": [
      "from IPython.display import HTML\n",
      "import pandas as pd\n",
      "\n",
      "# Calculamos las m\u00e9tricas de calidad de la clasificaci\u00f3n\n",
      "precision = precision_score(y_test_total, y_pred_total, average = None)\n",
      "recall = recall_score(y_test_total, y_pred_total, average = None)\n",
      "f_score = f1_score(y_test_total, y_pred_total, average = None)\n",
      "\n",
      "df = pd.DataFrame([precision, recall, f_score], index = ['Precision', 'Recall', 'F-Score'])\n",
      "\n",
      "HTML(df.to_html())"
     ],
     "language": "python",
     "metadata": {},
     "outputs": []
    },
    {
     "cell_type": "code",
     "collapsed": false,
     "input": [
      "# Ploteamos matriz de confusi\u00f3n como Heatmap\n",
      "plot_confusion_matrix(y_test_total, y_pred_total, 'Decision Tree Classifier', normed=True)"
     ],
     "language": "python",
     "metadata": {},
     "outputs": []
    },
    {
     "cell_type": "code",
     "collapsed": false,
     "input": [],
     "language": "python",
     "metadata": {},
     "outputs": []
    }
   ],
   "metadata": {}
  }
 ]
}