{
 "metadata": {
  "name": ""
 },
 "nbformat": 3,
 "nbformat_minor": 0,
 "worksheets": [
  {
   "cells": [
    {
     "cell_type": "code",
     "collapsed": false,
     "input": [
      "from sklearn.cross_validation import train_test_split\n",
      "from sklearn import cross_validation\n",
      "from sklearn.neighbors import KNeighborsClassifier\n",
      "\n",
      "from utils import plot_confusion_matrix\n",
      "from utils import open_eros_data\n",
      "\n",
      "from sklearn.metrics import recall_score\n",
      "from sklearn.metrics import f1_score\n",
      "from sklearn.metrics import precision_score\n",
      "\n",
      "from IPython.display import HTML\n",
      "import pandas as pd"
     ],
     "language": "python",
     "metadata": {},
     "outputs": [],
     "prompt_number": 1
    },
    {
     "cell_type": "heading",
     "level": 3,
     "metadata": {},
     "source": [
      "Clasificaci\u00f3n KNN"
     ]
    },
    {
     "cell_type": "code",
     "collapsed": false,
     "input": [
      "def knn_classify(X, y, neighbors=1, test_size=0.3, plot_conf_matrix=True):\n",
      "    # Guardamos las predicciones y clases reales de todos los fold en una lista\n",
      "    y_pred_total = []\n",
      "    y_test_total = []\n",
      "    k_fold = cross_validation.StratifiedKFold(y, n_folds = 10, indices = True)\n",
      "    \n",
      "    for train_indices, test_indices in k_fold:\n",
      "        X_train = X.iloc[train_indices]\n",
      "        y_train = y.iloc[train_indices]\n",
      "    \n",
      "        X_test = X.iloc[test_indices]\n",
      "        y_test = y.iloc[test_indices]\n",
      "    \n",
      "        clf = KNeighborsClassifier(n_neighbors=neighbors,algorithm='kd_tree')\n",
      "    \n",
      "        # Ajusto el modelo y predigo \n",
      "        clf = clf.fit( X_train, y_train )\n",
      "        y_pred = clf.predict( X_test )\n",
      "    \n",
      "        y_pred_total += y_pred.tolist()\n",
      "        y_test_total += y_test.tolist()\n",
      "    \n",
      "    return y_test_total, y_pred_total"
     ],
     "language": "python",
     "metadata": {},
     "outputs": [],
     "prompt_number": 2
    },
    {
     "cell_type": "code",
     "collapsed": false,
     "input": [
      "X, y = open_eros_data()\n",
      "classes = ['BV', 'Cepheid', 'DSCT', 'Eclipsing Binaries', 'Long Period Variables', 'Quasar', 'RR Lyrae', 'Type 2 CEPH']"
     ],
     "language": "python",
     "metadata": {},
     "outputs": [],
     "prompt_number": 3
    },
    {
     "cell_type": "code",
     "collapsed": false,
     "input": [
      "def metrics(y_test_total, y_pred_total):\n",
      "    precision = precision_score(y_test_total, y_pred_total, average = None)\n",
      "    recall = recall_score(y_test_total, y_pred_total, average = None)\n",
      "    f_score = f1_score(y_test_total, y_pred_total, average = None)\n",
      "    \n",
      "    return pd.DataFrame([precision, recall, f_score], index = ['Precision', 'Recall', 'F-Score'], columns=classes)"
     ],
     "language": "python",
     "metadata": {},
     "outputs": [],
     "prompt_number": 4
    },
    {
     "cell_type": "heading",
     "level": 4,
     "metadata": {},
     "source": [
      "N = 1"
     ]
    },
    {
     "cell_type": "code",
     "collapsed": false,
     "input": [
      "y_test_total, y_pred_total = knn_classify(X, y, neighbors=1)\n",
      "\n",
      "df = metrics(y_test_total, y_pred_total)\n",
      "HTML(df.to_html())"
     ],
     "language": "python",
     "metadata": {},
     "outputs": [
      {
       "html": [
        "<table border=\"1\" class=\"dataframe\">\n",
        "  <thead>\n",
        "    <tr style=\"text-align: right;\">\n",
        "      <th></th>\n",
        "      <th>BV</th>\n",
        "      <th>Cepheid</th>\n",
        "      <th>DSCT</th>\n",
        "      <th>Eclipsing Binaries</th>\n",
        "      <th>Long Period Variables</th>\n",
        "      <th>Quasar</th>\n",
        "      <th>RR Lyrae</th>\n",
        "      <th>Type 2 CEPH</th>\n",
        "    </tr>\n",
        "  </thead>\n",
        "  <tbody>\n",
        "    <tr>\n",
        "      <th>Precision</th>\n",
        "      <td> 0.365229</td>\n",
        "      <td> 0.784587</td>\n",
        "      <td> 0.543636</td>\n",
        "      <td> 0.551891</td>\n",
        "      <td> 0.944019</td>\n",
        "      <td> 0.142857</td>\n",
        "      <td> 0.697852</td>\n",
        "      <td> 0.072289</td>\n",
        "    </tr>\n",
        "    <tr>\n",
        "      <th>Recall</th>\n",
        "      <td> 0.340452</td>\n",
        "      <td> 0.740903</td>\n",
        "      <td> 0.585127</td>\n",
        "      <td> 0.515546</td>\n",
        "      <td> 0.947974</td>\n",
        "      <td> 0.122222</td>\n",
        "      <td> 0.755928</td>\n",
        "      <td> 0.049587</td>\n",
        "    </tr>\n",
        "    <tr>\n",
        "      <th>F-Score</th>\n",
        "      <td> 0.352406</td>\n",
        "      <td> 0.762120</td>\n",
        "      <td> 0.563619</td>\n",
        "      <td> 0.533100</td>\n",
        "      <td> 0.945992</td>\n",
        "      <td> 0.131737</td>\n",
        "      <td> 0.725730</td>\n",
        "      <td> 0.058824</td>\n",
        "    </tr>\n",
        "  </tbody>\n",
        "</table>"
       ],
       "metadata": {},
       "output_type": "pyout",
       "prompt_number": 5,
       "text": [
        "<IPython.core.display.HTML at 0x108b1ff50>"
       ]
      }
     ],
     "prompt_number": 5
    },
    {
     "cell_type": "code",
     "collapsed": false,
     "input": [
      "title = \"KNN Classification with N=1\"\n",
      "plot_confusion_matrix(y_test_total, y_pred_total, title, normed=True)"
     ],
     "language": "python",
     "metadata": {},
     "outputs": [],
     "prompt_number": 6
    },
    {
     "cell_type": "heading",
     "level": 4,
     "metadata": {},
     "source": [
      "N = 5"
     ]
    },
    {
     "cell_type": "code",
     "collapsed": false,
     "input": [
      "y_test_total, y_pred_total = knn_classify(X, y, neighbors=5)\n",
      "\n",
      "df = metrics(y_test_total, y_pred_total)\n",
      "HTML(df.to_html())"
     ],
     "language": "python",
     "metadata": {},
     "outputs": [
      {
       "html": [
        "<table border=\"1\" class=\"dataframe\">\n",
        "  <thead>\n",
        "    <tr style=\"text-align: right;\">\n",
        "      <th></th>\n",
        "      <th>0</th>\n",
        "      <th>1</th>\n",
        "      <th>2</th>\n",
        "      <th>3</th>\n",
        "      <th>4</th>\n",
        "      <th>5</th>\n",
        "      <th>6</th>\n",
        "      <th>7</th>\n",
        "    </tr>\n",
        "  </thead>\n",
        "  <tbody>\n",
        "    <tr>\n",
        "      <th>Precision</th>\n",
        "      <td> 0.583691</td>\n",
        "      <td> 0.793978</td>\n",
        "      <td> 0.627953</td>\n",
        "      <td> 0.646256</td>\n",
        "      <td> 0.942981</td>\n",
        "      <td> 0.147059</td>\n",
        "      <td> 0.708817</td>\n",
        "      <td> 0.333333</td>\n",
        "    </tr>\n",
        "    <tr>\n",
        "      <th>Recall</th>\n",
        "      <td> 0.341709</td>\n",
        "      <td> 0.809294</td>\n",
        "      <td> 0.624266</td>\n",
        "      <td> 0.495195</td>\n",
        "      <td> 0.978302</td>\n",
        "      <td> 0.027778</td>\n",
        "      <td> 0.832662</td>\n",
        "      <td> 0.008264</td>\n",
        "    </tr>\n",
        "    <tr>\n",
        "      <th>F-Score</th>\n",
        "      <td> 0.431062</td>\n",
        "      <td> 0.801563</td>\n",
        "      <td> 0.626104</td>\n",
        "      <td> 0.560730</td>\n",
        "      <td> 0.960317</td>\n",
        "      <td> 0.046729</td>\n",
        "      <td> 0.765765</td>\n",
        "      <td> 0.016129</td>\n",
        "    </tr>\n",
        "  </tbody>\n",
        "</table>"
       ],
       "metadata": {},
       "output_type": "pyout",
       "prompt_number": 7,
       "text": [
        "<IPython.core.display.HTML at 0x10b131c50>"
       ]
      }
     ],
     "prompt_number": 7
    },
    {
     "cell_type": "code",
     "collapsed": false,
     "input": [
      "title = \"KNN Classification with N=5\"\n",
      "plot_confusion_matrix(y_test_total, y_pred_total, title, normed=True)"
     ],
     "language": "python",
     "metadata": {},
     "outputs": [],
     "prompt_number": 8
    },
    {
     "cell_type": "heading",
     "level": 4,
     "metadata": {},
     "source": [
      "N = 10"
     ]
    },
    {
     "cell_type": "code",
     "collapsed": false,
     "input": [
      "y_test_total, y_pred_total = knn_classify(X, y, neighbors=10)\n",
      "\n",
      "df = metrics(y_test_total, y_pred_total)\n",
      "HTML(df.to_html())"
     ],
     "language": "python",
     "metadata": {},
     "outputs": [
      {
       "output_type": "stream",
       "stream": "stderr",
       "text": [
        "/Users/npcastro/anaconda/lib/python2.7/site-packages/sklearn/metrics/metrics.py:1734: UserWarning: The sum of true positives and false positives are equal to zero for some labels. Precision is ill defined for those labels [7]. The precision and recall are equal to zero for some labels. fbeta_score is ill defined for those labels [7]. \n",
        "  average=average)\n",
        "/Users/npcastro/anaconda/lib/python2.7/site-packages/sklearn/metrics/metrics.py:1809: UserWarning: The sum of true positives and false positives are equal to zero for some labels. Precision is ill defined for those labels [7]. The precision and recall are equal to zero for some labels. fbeta_score is ill defined for those labels [7]. \n",
        "  average=average)\n"
       ]
      },
      {
       "output_type": "stream",
       "stream": "stderr",
       "text": [
        "/Users/npcastro/anaconda/lib/python2.7/site-packages/sklearn/metrics/metrics.py:1249: UserWarning: The sum of true positives and false positives are equal to zero for some labels. Precision is ill defined for those labels [7]. The precision and recall are equal to zero for some labels. fbeta_score is ill defined for those labels [7]. \n",
        "  average=average)\n"
       ]
      },
      {
       "html": [
        "<table border=\"1\" class=\"dataframe\">\n",
        "  <thead>\n",
        "    <tr style=\"text-align: right;\">\n",
        "      <th></th>\n",
        "      <th>0</th>\n",
        "      <th>1</th>\n",
        "      <th>2</th>\n",
        "      <th>3</th>\n",
        "      <th>4</th>\n",
        "      <th>5</th>\n",
        "      <th>6</th>\n",
        "      <th>7</th>\n",
        "    </tr>\n",
        "  </thead>\n",
        "  <tbody>\n",
        "    <tr>\n",
        "      <th>Precision</th>\n",
        "      <td> 0.621687</td>\n",
        "      <td> 0.800707</td>\n",
        "      <td> 0.640000</td>\n",
        "      <td> 0.659516</td>\n",
        "      <td> 0.941551</td>\n",
        "      <td> 0.076923</td>\n",
        "      <td> 0.695247</td>\n",
        "      <td> 0</td>\n",
        "    </tr>\n",
        "    <tr>\n",
        "      <th>Recall</th>\n",
        "      <td> 0.324121</td>\n",
        "      <td> 0.794388</td>\n",
        "      <td> 0.626223</td>\n",
        "      <td> 0.477954</td>\n",
        "      <td> 0.981116</td>\n",
        "      <td> 0.005556</td>\n",
        "      <td> 0.850783</td>\n",
        "      <td> 0</td>\n",
        "    </tr>\n",
        "    <tr>\n",
        "      <th>F-Score</th>\n",
        "      <td> 0.426094</td>\n",
        "      <td> 0.797535</td>\n",
        "      <td> 0.633037</td>\n",
        "      <td> 0.554245</td>\n",
        "      <td> 0.960926</td>\n",
        "      <td> 0.010363</td>\n",
        "      <td> 0.765191</td>\n",
        "      <td> 0</td>\n",
        "    </tr>\n",
        "  </tbody>\n",
        "</table>"
       ],
       "metadata": {},
       "output_type": "pyout",
       "prompt_number": 9,
       "text": [
        "<IPython.core.display.HTML at 0x10b013c90>"
       ]
      }
     ],
     "prompt_number": 9
    },
    {
     "cell_type": "code",
     "collapsed": false,
     "input": [
      "title = \"KNN Classification with N=10\"\n",
      "plot_confusion_matrix(y_test_total, y_pred_total, title, normed=True)"
     ],
     "language": "python",
     "metadata": {},
     "outputs": [],
     "prompt_number": 10
    },
    {
     "cell_type": "heading",
     "level": 4,
     "metadata": {},
     "source": [
      "N = 20"
     ]
    },
    {
     "cell_type": "code",
     "collapsed": false,
     "input": [
      "y_test_total, y_pred_total = knn_classify(X, y, neighbors=20)\n",
      "\n",
      "df = metrics(y_test_total, y_pred_total)\n",
      "HTML(df.to_html())"
     ],
     "language": "python",
     "metadata": {},
     "outputs": [
      {
       "output_type": "stream",
       "stream": "stderr",
       "text": [
        "/Users/npcastro/anaconda/lib/python2.7/site-packages/sklearn/metrics/metrics.py:1734: UserWarning: The sum of true positives and false positives are equal to zero for some labels. Precision is ill defined for those labels [7]. The precision and recall are equal to zero for some labels. fbeta_score is ill defined for those labels [5 7]. \n",
        "  average=average)\n",
        "/Users/npcastro/anaconda/lib/python2.7/site-packages/sklearn/metrics/metrics.py:1809: UserWarning: The sum of true positives and false positives are equal to zero for some labels. Precision is ill defined for those labels [7]. The precision and recall are equal to zero for some labels. fbeta_score is ill defined for those labels [5 7]. \n",
        "  average=average)\n",
        "/Users/npcastro/anaconda/lib/python2.7/site-packages/sklearn/metrics/metrics.py:1249: UserWarning: The sum of true positives and false positives are equal to zero for some labels. Precision is ill defined for those labels [7]. The precision and recall are equal to zero for some labels. fbeta_score is ill defined for those labels [5 7]. \n",
        "  average=average)\n"
       ]
      },
      {
       "html": [
        "<table border=\"1\" class=\"dataframe\">\n",
        "  <thead>\n",
        "    <tr style=\"text-align: right;\">\n",
        "      <th></th>\n",
        "      <th>0</th>\n",
        "      <th>1</th>\n",
        "      <th>2</th>\n",
        "      <th>3</th>\n",
        "      <th>4</th>\n",
        "      <th>5</th>\n",
        "      <th>6</th>\n",
        "      <th>7</th>\n",
        "    </tr>\n",
        "  </thead>\n",
        "  <tbody>\n",
        "    <tr>\n",
        "      <th>Precision</th>\n",
        "      <td> 0.656425</td>\n",
        "      <td> 0.783904</td>\n",
        "      <td> 0.660088</td>\n",
        "      <td> 0.667784</td>\n",
        "      <td> 0.940257</td>\n",
        "      <td> 0</td>\n",
        "      <td> 0.679693</td>\n",
        "      <td> 0</td>\n",
        "    </tr>\n",
        "    <tr>\n",
        "      <th>Recall</th>\n",
        "      <td> 0.295226</td>\n",
        "      <td> 0.772907</td>\n",
        "      <td> 0.589041</td>\n",
        "      <td> 0.450537</td>\n",
        "      <td> 0.982179</td>\n",
        "      <td> 0</td>\n",
        "      <td> 0.871588</td>\n",
        "      <td> 0</td>\n",
        "    </tr>\n",
        "    <tr>\n",
        "      <th>F-Score</th>\n",
        "      <td> 0.407279</td>\n",
        "      <td> 0.778366</td>\n",
        "      <td> 0.622544</td>\n",
        "      <td> 0.538059</td>\n",
        "      <td> 0.960761</td>\n",
        "      <td> 0</td>\n",
        "      <td> 0.763772</td>\n",
        "      <td> 0</td>\n",
        "    </tr>\n",
        "  </tbody>\n",
        "</table>"
       ],
       "metadata": {},
       "output_type": "pyout",
       "prompt_number": 11,
       "text": [
        "<IPython.core.display.HTML at 0x108ce37d0>"
       ]
      }
     ],
     "prompt_number": 11
    },
    {
     "cell_type": "code",
     "collapsed": false,
     "input": [
      "title = \"KNN Classification with N=20\"\n",
      "plot_confusion_matrix(y_test_total, y_pred_total, title, normed=True)"
     ],
     "language": "python",
     "metadata": {},
     "outputs": [],
     "prompt_number": 12
    },
    {
     "cell_type": "code",
     "collapsed": false,
     "input": [],
     "language": "python",
     "metadata": {},
     "outputs": []
    }
   ],
   "metadata": {}
  }
 ]
}