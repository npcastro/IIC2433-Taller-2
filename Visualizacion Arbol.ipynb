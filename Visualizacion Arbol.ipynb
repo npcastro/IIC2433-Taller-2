{
 "metadata": {
  "name": ""
 },
 "nbformat": 3,
 "nbformat_minor": 0,
 "worksheets": [
  {
   "cells": [
    {
     "cell_type": "code",
     "collapsed": false,
     "input": [
      "import numpy as np\n",
      "import matplotlib.pyplot as plt\n",
      "\n",
      "from sklearn.datasets import load_iris\n",
      "from sklearn.tree import DecisionTreeClassifier\n",
      "#%matplotlib inline "
     ],
     "language": "python",
     "metadata": {},
     "outputs": [],
     "prompt_number": 1
    },
    {
     "cell_type": "code",
     "collapsed": false,
     "input": [
      "# Parameters\n",
      "n_classes = 3\n",
      "plot_colors = \"bry\"\n",
      "plot_step = 0.02\n",
      "\n",
      "# Load data\n",
      "iris = load_iris()"
     ],
     "language": "python",
     "metadata": {},
     "outputs": [],
     "prompt_number": 2
    },
    {
     "cell_type": "heading",
     "level": 3,
     "metadata": {},
     "source": [
      "Visualizaci\u00f3n de Cortes"
     ]
    },
    {
     "cell_type": "code",
     "collapsed": false,
     "input": [
      "for pairidx, pair in enumerate([[0, 1], [0, 2], [0, 3],\n",
      "                                [1, 2], [1, 3], [2, 3]]):\n",
      "    # We only take the two corresponding features\n",
      "    X = iris.data[:, pair]\n",
      "    y = iris.target\n",
      "\n",
      "    # Standarize\n",
      "    mean = X.mean(axis=0)\n",
      "    std = X.std(axis=0)\n",
      "    X = (X - mean) / std\n",
      "\n",
      "    # Train\n",
      "    clf = DecisionTreeClassifier(criterion = 'entropy').fit(X, y)\n",
      "\n",
      "    # Plot the decision boundary\n",
      "    plt.subplot(2, 3, pairidx + 1)\n",
      "\n",
      "    x_min, x_max = X[:, 0].min() - 1, X[:, 0].max() + 1\n",
      "    y_min, y_max = X[:, 1].min() - 1, X[:, 1].max() + 1\n",
      "    xx, yy = np.meshgrid(np.arange(x_min, x_max, plot_step),\n",
      "                         np.arange(y_min, y_max, plot_step))\n",
      "\n",
      "    Z = clf.predict(np.c_[xx.ravel(), yy.ravel()])\n",
      "    Z = Z.reshape(xx.shape)\n",
      "    cs = plt.contourf(xx, yy, Z, cmap=plt.cm.Paired)\n",
      "\n",
      "    plt.xlabel(iris.feature_names[pair[0]])\n",
      "    plt.ylabel(iris.feature_names[pair[1]])\n",
      "    plt.axis(\"tight\")\n",
      "\n",
      "    # Plot the training points\n",
      "    for i, color in zip(range(n_classes), plot_colors):\n",
      "        idx = np.where(y == i)\n",
      "        plt.scatter(X[idx, 0], X[idx, 1], c=color, label=iris.target_names[i],\n",
      "                    cmap=plt.cm.Paired)\n",
      "\n",
      "    plt.axis(\"tight\")\n",
      "plt.show()"
     ],
     "language": "python",
     "metadata": {},
     "outputs": [],
     "prompt_number": 7
    },
    {
     "cell_type": "heading",
     "level": 3,
     "metadata": {},
     "source": [
      "Visualizaci\u00f3n del \u00e1rbol"
     ]
    },
    {
     "cell_type": "code",
     "collapsed": false,
     "input": [
      "from sklearn.externals.six import StringIO  \n",
      "from sklearn import tree\n",
      "import pydot \n",
      "dot_data = StringIO() \n",
      "tree.export_graphviz(clf, out_file=dot_data, feature_names=['sepal length', 'sepal width', 'petal length', 'petal width', 'class']) \n",
      "graph = pydot.graph_from_dot_data(dot_data.getvalue()) \n",
      "graph.write_pdf(\"Iris Tree.pdf\")"
     ],
     "language": "python",
     "metadata": {},
     "outputs": [
      {
       "metadata": {},
       "output_type": "pyout",
       "prompt_number": 8,
       "text": [
        "True"
       ]
      }
     ],
     "prompt_number": 8
    },
    {
     "cell_type": "code",
     "collapsed": false,
     "input": [],
     "language": "python",
     "metadata": {},
     "outputs": []
    }
   ],
   "metadata": {}
  }
 ]
}